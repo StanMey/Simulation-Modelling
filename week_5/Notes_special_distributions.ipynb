{
 "cells": [
  {
   "cell_type": "markdown",
   "metadata": {},
   "source": [
    "# asdf"
   ]
  },
  {
   "cell_type": "code",
   "execution_count": 1,
   "metadata": {},
   "outputs": [],
   "source": [
    "import numpy as np\n",
    "import matplotlib.pyplot as plt"
   ]
  },
  {
   "cell_type": "markdown",
   "metadata": {},
   "source": []
  },
  {
   "cell_type": "code",
   "execution_count": 4,
   "metadata": {},
   "outputs": [
    {
     "data": {
      "text/plain": [
       "[('heads', 'heads'),\n",
       " ('heads', 'tails'),\n",
       " ('tails', 'heads'),\n",
       " ('tails', 'tails')]"
      ]
     },
     "execution_count": 4,
     "metadata": {},
     "output_type": "execute_result"
    }
   ],
   "source": [
    "sides = ['heads', 'tails']\n",
    "options = [(s1, s2) for s1 in sides for s2 in sides]\n",
    "options"
   ]
  },
  {
   "cell_type": "code",
   "execution_count": 15,
   "metadata": {},
   "outputs": [
    {
     "name": "stdout",
     "output_type": "stream",
     "text": [
      "sample space of X: 4\n",
      "range of X: [0, 1, 2]\n"
     ]
    }
   ],
   "source": [
    "# getting the sample space of X\n",
    "sample_space = 2 ** len(sides)\n",
    "print(f\"sample space of X: {sample_space}\")\n",
    "\n",
    "# Getting the range of X\n",
    "output_set = [c.count('heads') for c in options]\n",
    "x_range = list(set(output_set))\n",
    "print(f\"range of X: {x_range}\")\n"
   ]
  },
  {
   "cell_type": "code",
   "execution_count": 17,
   "metadata": {},
   "outputs": [
    {
     "name": "stdout",
     "output_type": "stream",
     "text": [
      "PMF for P(X = 0): 0.25\n",
      "PMF for P(X = 1): 0.5\n",
      "PMF for P(X = 2): 0.25\n"
     ]
    }
   ],
   "source": [
    "for i in x_range:\n",
    "    print(f\"PMF for P(X = {i}): {output_set.count(i) / len(output_set)}\")"
   ]
  },
  {
   "cell_type": "markdown",
   "metadata": {},
   "source": [
    "## Special distributions"
   ]
  },
  {
   "cell_type": "code",
   "execution_count": null,
   "metadata": {},
   "outputs": [],
   "source": []
  }
 ],
 "metadata": {
  "kernelspec": {
   "display_name": "Python 3",
   "language": "python",
   "name": "python3"
  },
  "language_info": {
   "codemirror_mode": {
    "name": "ipython",
    "version": 3
   },
   "file_extension": ".py",
   "mimetype": "text/x-python",
   "name": "python",
   "nbconvert_exporter": "python",
   "pygments_lexer": "ipython3",
   "version": "3.6.7"
  }
 },
 "nbformat": 4,
 "nbformat_minor": 2
}
