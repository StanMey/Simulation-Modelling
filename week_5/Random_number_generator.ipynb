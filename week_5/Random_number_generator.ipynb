{
 "cells": [
  {
   "cell_type": "markdown",
   "metadata": {},
   "source": [
    "# Uniform random number generator"
   ]
  },
  {
   "cell_type": "code",
   "execution_count": 2,
   "metadata": {},
   "outputs": [],
   "source": [
    "import matplotlib.pyplot as plt\n",
    "import seaborn as sns\n",
    "import numpy as np\n",
    "\n",
    "import time\n",
    "import random as rd"
   ]
  },
  {
   "cell_type": "markdown",
   "metadata": {},
   "source": []
  },
  {
   "cell_type": "code",
   "execution_count": 3,
   "metadata": {},
   "outputs": [],
   "source": [
    "def test_random_generator(samples):\n",
    "    \"\"\"\n",
    "    \n",
    "    \"\"\"\n",
    "    \n",
    "    # get the baseline\n",
    "    baseline = [rd.uniform(0, 1) for x in range(samples)]\n",
    "    return baseline\n",
    "\n",
    "test1 = test_random_generator(100)"
   ]
  },
  {
   "cell_type": "code",
   "execution_count": 4,
   "metadata": {},
   "outputs": [
    {
     "data": {
      "text/plain": [
       "<matplotlib.axes._subplots.AxesSubplot at 0x165e2caad30>"
      ]
     },
     "execution_count": 4,
     "metadata": {},
     "output_type": "execute_result"
    },
    {
     "data": {
      "image/png": "[encoded data removed]",
      "text/plain": [
       "<Figure size 432x288 with 1 Axes>"
      ]
     },
     "metadata": {
      "needs_background": "light"
     },
     "output_type": "display_data"
    }
   ],
   "source": [
    "def uniform_gen_waiting_time_test(samples):\n",
    "    \"\"\"\n",
    "\n",
    "    \"\"\"\n",
    "    result = []\n",
    "    for x in range(samples):\n",
    "        n = time.time()\n",
    "        result.append(float(str(n)[-2:]) / 100)\n",
    "        time.sleep(.0001)\n",
    "    return result\n",
    "\n",
    "dist_test = uniform_gen_waiting_time_test(1000)\n",
    "sns.distplot(dist_test, bins=10, kde=False)"
   ]
  },
  {
   "cell_type": "code",
   "execution_count": 5,
   "metadata": {},
   "outputs": [],
   "source": [
    "class PseudoRandomGen(object):\n",
    "    \"\"\"\n",
    "    implements a lagged Fibonacci generator (LFG)\n",
    "    \"\"\"\n",
    "    def __init__(self, seed, opp: str=\"+\", j: int=3, k: int=7, m: int=10):\n",
    "        # check for requirements of j and k\n",
    "        assert 0 < j < k\n",
    "        \n",
    "        # check the requirements of the seed\n",
    "        self.seed = str(seed)\n",
    "        assert len(self.seed) >= k\n",
    "        \n",
    "        if opp == \"+\":\n",
    "            self.opp = lambda x, y : x + y\n",
    "        elif opp == \"-\":\n",
    "            self.opp = lambda x, y : x - y\n",
    "        elif opp == \"*\":\n",
    "            self.opp = lambda x, y : x * y\n",
    "        else:\n",
    "            raise Exception('operation is not supported')\n",
    "            \n",
    "        self.seed = np.array(list(map(int, self.seed)))\n",
    "        self.j = j\n",
    "        self.k = k\n",
    "        self.m = m\n",
    "    \n",
    "    def gen_random(self):\n",
    "        \"\"\"\n",
    "        \n",
    "        \"\"\"\n",
    "        new_int = self.opp(self.seed[self.j - 1], self.seed[self.k - 1]) % self.m\n",
    "        self.seed = np.append(self.seed[1:], new_int)\n",
    "        return new_int"
   ]
  },
  {
   "cell_type": "code",
   "execution_count": 6,
   "metadata": {},
   "outputs": [
    {
     "name": "stdout",
     "output_type": "stream",
     "text": [
      "[6 4 2 1 8 9 3] --> 5\n",
      "[4 2 1 8 9 3 5] --> 6\n",
      "[2 1 8 9 3 5 6] --> 4\n",
      "[1 8 9 3 5 6 4] --> 3\n",
      "[8 9 3 5 6 4 3] --> 6\n"
     ]
    }
   ],
   "source": [
    "rd_test = PseudoRandomGen(6421893)\n",
    "\n",
    "for x in range(0, 5):\n",
    "    print(\"{0} --> {1}\".format(rd_test.seed, rd_test.gen_random()))"
   ]
  },
  {
   "cell_type": "markdown",
   "metadata": {},
   "source": []
  },
  {
   "cell_type": "code",
   "execution_count": 32,
   "metadata": {},
   "outputs": [
    {
     "data": {
      "image/png": "[encoded data removed]",
      "text/plain": [
       "<Figure size 432x288 with 1 Axes>"
      ]
     },
     "metadata": {
      "needs_background": "light"
     },
     "output_type": "display_data"
    }
   ],
   "source": [
    "for x in [1000, 10000, 50000, 100000]:\n",
    "    new_rd = PseudoRandomGen(6421893)\n",
    "    \n",
    "    dist = []\n",
    "    for i in range(x):\n",
    "        dist.append(new_rd.gen_random())\n",
    "    \n",
    "    \n",
    "    sns.distplot(dist, bins=10, kde=False)\n",
    "    break\n",
    "    "
   ]
  },
  {
   "cell_type": "markdown",
   "metadata": {},
   "source": []
  },
  {
   "cell_type": "code",
   "execution_count": 33,
   "metadata": {},
   "outputs": [
    {
     "data": {
      "text/plain": [
       "<matplotlib.axes._subplots.AxesSubplot at 0x165e856ea58>"
      ]
     },
     "execution_count": 33,
     "metadata": {},
     "output_type": "execute_result"
    },
    {
     "data": {
      "image/png": "[encoded data removed]",
      "text/plain": [
       "<Figure size 432x288 with 1 Axes>"
      ]
     },
     "metadata": {
      "needs_background": "light"
     },
     "output_type": "display_data"
    }
   ],
   "source": [
    "new_rd = PseudoRandomGen(6421893, m=101)\n",
    "    \n",
    "dist = []\n",
    "for i in range(100000):\n",
    "    dist.append(new_rd.gen_random() / 100)\n",
    "    \n",
    "sns.distplot(dist, bins=10, kde=False)"
   ]
  },
  {
   "cell_type": "code",
   "execution_count": null,
   "metadata": {},
   "outputs": [],
   "source": []
  },
  {
   "cell_type": "code",
   "execution_count": null,
   "metadata": {},
   "outputs": [],
   "source": []
  }
 ],
 "metadata": {
  "kernelspec": {
   "display_name": "Python 3",
   "language": "python",
   "name": "python3"
  },
  "language_info": {
   "codemirror_mode": {
    "name": "ipython",
    "version": 3
   },
   "file_extension": ".py",
   "mimetype": "text/x-python",
   "name": "python",
   "nbconvert_exporter": "python",
   "pygments_lexer": "ipython3",
   "version": "3.6.7"
  }
 },
 "nbformat": 4,
 "nbformat_minor": 2
}
