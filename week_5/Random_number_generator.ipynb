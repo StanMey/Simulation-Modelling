{
 "cells": [
  {
   "cell_type": "markdown",
   "metadata": {},
   "source": [
    "# Uniform random number generator"
   ]
  },
  {
   "cell_type": "code",
   "execution_count": 4,
   "metadata": {},
   "outputs": [],
   "source": [
    "import matplotlib.pyplot as plt\n",
    "import seaborn as sns\n",
    "import numpy as np\n",
    "\n",
    "import time\n",
    "import random as rd"
   ]
  },
  {
   "cell_type": "markdown",
   "metadata": {},
   "source": []
  },
  {
   "cell_type": "code",
   "execution_count": 5,
   "metadata": {},
   "outputs": [],
   "source": [
    "def test_random_generator(samples):\n",
    "    \"\"\"\n",
    "    \n",
    "    \"\"\"\n",
    "    \n",
    "    # get the baseline\n",
    "    baseline = [rd.uniform(0, 1) for x in range(samples)]\n",
    "    return baseline\n",
    "\n",
    "test1 = test_random_generator(100)"
   ]
  },
  {
   "cell_type": "code",
   "execution_count": 6,
   "metadata": {},
   "outputs": [
    {
     "data": {
      "text/plain": [
       "<matplotlib.axes._subplots.AxesSubplot at 0x2e121667cf8>"
      ]
     },
     "execution_count": 6,
     "metadata": {},
     "output_type": "execute_result"
    },
    {
     "data": {
      "image/png": "[encoded data removed]",
      "text/plain": [
       "<Figure size 432x288 with 1 Axes>"
      ]
     },
     "metadata": {
      "needs_background": "light"
     },
     "output_type": "display_data"
    }
   ],
   "source": [
    "def uniform_gen_waiting_time_test(samples):\n",
    "    \"\"\"\n",
    "\n",
    "    \"\"\"\n",
    "    result = []\n",
    "    for x in range(samples):\n",
    "        n = time.time()\n",
    "        result.append(float(str(n)[-2:]) / 100)\n",
    "        time.sleep(.0001)\n",
    "    return result\n",
    "\n",
    "dist_test = uniform_gen_waiting_time_test(1000)\n",
    "sns.distplot(dist_test, bins=10, kde=False)"
   ]
  },
  {
   "cell_type": "code",
   "execution_count": 38,
   "metadata": {},
   "outputs": [],
   "source": [
    "class PseudoRandomGen(object):\n",
    "    \"\"\"\n",
    "    implements a lagged Fibonacci generator (LFG)\n",
    "    \"\"\"\n",
    "    def __init__(self, seed, opp: str=\"+\", j: int=3, k: int=7, m: int=10):\n",
    "        # check for requirements of j and k\n",
    "        assert 0 < j < k\n",
    "        \n",
    "        # check the requirements of the seed\n",
    "        self.seed = str(seed)\n",
    "        assert len(self.seed) >= k\n",
    "        \n",
    "        if opp == \"+\":\n",
    "            self.opp = lambda x, y : x + y\n",
    "        elif opp == \"-\":\n",
    "            self.opp = lambda x, y : x - y\n",
    "        elif opp == \"*\":\n",
    "            self.opp = lambda x, y : x * y\n",
    "        else:\n",
    "            raise Exception('operation is not supported')\n",
    "            \n",
    "        self.seed = np.array(list(map(int, self.seed)))\n",
    "        self.j = j\n",
    "        self.k = k\n",
    "        self.m = m\n",
    "    \n",
    "    def gen_random(self):\n",
    "        \"\"\"\n",
    "        \n",
    "        \"\"\"\n",
    "        new_int = self.opp(self.seed[self.j - 1], self.seed[self.k - 1]) % self.m\n",
    "        self.seed = np.append(self.seed[1:], new_int)\n",
    "        return new_int"
   ]
  },
  {
   "cell_type": "code",
   "execution_count": 43,
   "metadata": {},
   "outputs": [
    {
     "name": "stdout",
     "output_type": "stream",
     "text": [
      "[6 4 2 1 8 9 3] --> 5\n",
      "[4 2 1 8 9 3 5] --> 6\n",
      "[2 1 8 9 3 5 6] --> 4\n",
      "[1 8 9 3 5 6 4] --> 3\n",
      "[8 9 3 5 6 4 3] --> 6\n"
     ]
    }
   ],
   "source": [
    "rd_test = PseudoRandomGen(6421893)\n",
    "\n",
    "for x in range(0, 5):\n",
    "    print(\"{0} --> {1}\".format(rd_test.seed, rd_test.gen_random()))"
   ]
  },
  {
   "cell_type": "code",
   "execution_count": 46,
   "metadata": {},
   "outputs": [
    {
     "name": "stdout",
     "output_type": "stream",
     "text": [
      "[6 4 2 1 8 9 3] --> 5\n",
      "[4 2 1 8 9 3 5] --> 6\n",
      "[2 1 8 9 3 5 6] --> 14\n",
      "[ 1  8  9  3  5  6 14] --> 23\n",
      "[ 8  9  3  5  6 14 23] --> 26\n",
      "[ 9  3  5  6 14 23 26] --> 31\n",
      "[ 3  5  6 14 23 26 31] --> 37\n",
      "[ 5  6 14 23 26 31 37] --> 51\n",
      "[ 6 14 23 26 31 37 51] --> 74\n",
      "[14 23 26 31 37 51 74] --> 100\n",
      "[ 23  26  31  37  51  74 100] --> 30\n",
      "[ 26  31  37  51  74 100  30] --> 67\n",
      "[ 31  37  51  74 100  30  67] --> 17\n",
      "[ 37  51  74 100  30  67  17] --> 91\n",
      "[ 51  74 100  30  67  17  91] --> 90\n",
      "[ 74 100  30  67  17  91  90] --> 19\n",
      "[100  30  67  17  91  90  19] --> 86\n",
      "[30 67 17 91 90 19 86] --> 2\n",
      "[67 17 91 90 19 86  2] --> 93\n",
      "[17 91 90 19 86  2 93] --> 82\n"
     ]
    }
   ],
   "source": [
    "rd_test = PseudoRandomGen(6421893, m=101)\n",
    "\n",
    "for x in range(0, 20):\n",
    "    print(\"{0} --> {1}\".format(rd_test.seed, rd_test.gen_random()))"
   ]
  }
 ],
 "metadata": {
  "kernelspec": {
   "display_name": "Python 3",
   "language": "python",
   "name": "python3"
  },
  "language_info": {
   "codemirror_mode": {
    "name": "ipython",
    "version": 3
   },
   "file_extension": ".py",
   "mimetype": "text/x-python",
   "name": "python",
   "nbconvert_exporter": "python",
   "pygments_lexer": "ipython3",
   "version": "3.6.7"
  }
 },
 "nbformat": 4,
 "nbformat_minor": 2
}
