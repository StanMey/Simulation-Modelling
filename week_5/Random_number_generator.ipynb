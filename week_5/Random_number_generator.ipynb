{
 "cells": [
  {
   "cell_type": "markdown",
   "metadata": {},
   "source": [
    "# Uniform random number generator\n",
    "\n",
    "Voor deze opdracht werd er gevraagd een Pseudo-Random Number Generator (PRNG) te bouwen.\n",
    "\n",
    "Deze methode wordt gebruikt om pseudo willekeurige getallen te genereren. De methode herhaalt na een bepaalde tijd dezelfde set getallen, maar deze manier is snel, deterministisch en wordt gebruikt om een herhaalbare set van getallen te genereren."
   ]
  },
  {
   "cell_type": "code",
   "execution_count": 1,
   "metadata": {},
   "outputs": [],
   "source": [
    "import matplotlib.pyplot as plt\n",
    "import seaborn as sns\n",
    "import numpy as np\n",
    "\n",
    "import time\n",
    "import math\n",
    "import random as rd"
   ]
  },
  {
   "cell_type": "markdown",
   "metadata": {},
   "source": [
    "Mijn eerste idee was om een random number generator te bouwen op basis van de tijd.\n",
    "Deze generator zou op basis van de huidige tijd getallen teruggeven. Het idee hierachter is dat de generator de huidige tijd opvraagt, daarvan de laatste twee getallen wegknipt (van de nanoseconden (ongeveer)) en dan een tijd zou wachten om dit gehele proces opnieuw te starten.\n",
    "\n",
    "Alhoewel dit (redelijk) gelukt is is deze generator niet pseudo willekeurig, omdat hij niet tot nauwelijks herhaalbaar is. Verder zou dit proces zeer lang kunnen duren, op basis van de hoeveelheid getallen die gegenereerd moeten worden."
   ]
  },
  {
   "cell_type": "code",
   "execution_count": 2,
   "metadata": {},
   "outputs": [
    {
     "data": {
      "text/plain": [
       "<matplotlib.lines.Line2D at 0x26e684c1908>"
      ]
     },
     "execution_count": 2,
     "metadata": {},
     "output_type": "execute_result"
    },
    {
     "data": {
      "image/png": "[encoded data removed]",
      "text/plain": [
       "<Figure size 432x288 with 1 Axes>"
      ]
     },
     "metadata": {
      "needs_background": "light"
     },
     "output_type": "display_data"
    }
   ],
   "source": [
    "def uniform_gen_waiting_time_test(samples):\n",
    "    \"\"\"Random generator based on time\"\"\"\n",
    "    result = []\n",
    "    for x in range(samples):\n",
    "        n = time.time()\n",
    "        result.append(float(str(n)[-2:]) / 100)\n",
    "        time.sleep(.0001)\n",
    "    return result\n",
    "\n",
    "x_samples = 1000\n",
    "dist_test = uniform_gen_waiting_time_test(x_samples)\n",
    "\n",
    "# plotting the results\n",
    "sns.distplot(dist_test, bins=10, kde=False)\n",
    "plt.axhline(x_samples // 10)"
   ]
  },
  {
   "cell_type": "markdown",
   "metadata": {},
   "source": [
    "## Lagged Fibonacci Generator (LFG)\n",
    "\n",
    "In het algemeen is de Fibonacci reeks als volgt gedefinieerd: \n",
    "\n",
    "$S_n = S_{n-1} + S_{n-2}$  \n",
    "\n",
    "Hierbij is ieder element de som van de vorige twee elementen. Gebaseerd op dit herhalende gedrag kan de LFG als volgt worden geschreven:\n",
    "\n",
    "$x_n = x_{n-j}\\; O \\;x_{n-k}\\; (mod \\;m)$\n",
    "\n",
    "In deze formule geldt $0<j<k$ en de initiële condities moeten kloppen. In deze generator wordt het volgende element gecreeërd door de twee vorige elementen te combineren gebruikmakend van een algebraïsche operatie $O$."
   ]
  },
  {
   "cell_type": "code",
   "execution_count": 3,
   "metadata": {},
   "outputs": [],
   "source": [
    "class PseudoRandomGen(object):\n",
    "    \"\"\"\n",
    "    implements a lagged Fibonacci generator (LFG)\n",
    "    \"\"\"\n",
    "    def __init__(self, seed, opp: str=\"+\", j: int=3, k: int=7, m: int=10):\n",
    "        # check for requirements of j and k\n",
    "        assert 0 < j < k\n",
    "        \n",
    "        # check the requirements of the seed\n",
    "        self.seed = str(seed)\n",
    "        assert len(self.seed) >= k\n",
    "        \n",
    "        if opp == \"+\":\n",
    "            self.opp = lambda x, y : x + y\n",
    "        elif opp == \"-\":\n",
    "            self.opp = lambda x, y : x - y\n",
    "        elif opp == \"*\":\n",
    "            self.opp = lambda x, y : x * y\n",
    "        else:\n",
    "            raise Exception('operation is not supported')\n",
    "            \n",
    "        self.seed = np.array(list(map(int, self.seed)))\n",
    "        self.j = j\n",
    "        self.k = k\n",
    "        self.m = m\n",
    "    \n",
    "    def gen_random(self):\n",
    "        \"\"\"\"\"\"\n",
    "        new_int = self.opp(self.seed[self.j - 1], self.seed[self.k - 1]) % self.m\n",
    "        self.seed = np.append(self.seed[1:], new_int)\n",
    "        return new_int\n",
    "    \n",
    "    def gen_random_sample(self, n):\n",
    "        \"\"\"\"\"\"\n",
    "        result = []\n",
    "        for x in range(n):\n",
    "            result.append(self.gen_random())\n",
    "        return result"
   ]
  },
  {
   "cell_type": "markdown",
   "metadata": {},
   "source": [
    "Wanneer we dit uitvoeren komen er de volgende resultaten uit."
   ]
  },
  {
   "cell_type": "code",
   "execution_count": 4,
   "metadata": {},
   "outputs": [
    {
     "name": "stdout",
     "output_type": "stream",
     "text": [
      "[6 4 2 1 8 9 3] --> 5\n",
      "[4 2 1 8 9 3 5] --> 6\n",
      "[2 1 8 9 3 5 6] --> 14\n",
      "[ 1  8  9  3  5  6 14] --> 23\n",
      "[ 8  9  3  5  6 14 23] --> 26\n"
     ]
    }
   ],
   "source": [
    "rd_test = PseudoRandomGen(6421893, m=100)\n",
    "\n",
    "for x in range(0, 5):\n",
    "    print(\"{0} --> {1}\".format(rd_test.seed, rd_test.gen_random()))"
   ]
  },
  {
   "cell_type": "markdown",
   "metadata": {},
   "source": [
    "Om uit te testen in hoeverre deze resultaten uniform verdeeld zijn heb ik ervoor gekozen om voor meerdere sample sizes te kiezen en voor iedere sample size de resultaten in bins op te delen om deze hierna te plotten."
   ]
  },
  {
   "cell_type": "code",
   "execution_count": 5,
   "metadata": {},
   "outputs": [
    {
     "data": {
      "image/png": "[encoded data removed]",
      "text/plain": [
       "<Figure size 1440x720 with 4 Axes>"
      ]
     },
     "metadata": {
      "needs_background": "light"
     },
     "output_type": "display_data"
    }
   ],
   "source": [
    "tests = [1000, 10000, 50000, 100000]\n",
    "count = 0\n",
    "\n",
    "fig, axs = plt.subplots(2, 2, figsize=(20, 10))\n",
    "\n",
    "for x in [0, 1]:\n",
    "    for y in [0, 1]:\n",
    "        \n",
    "        new_rd = PseudoRandomGen(6421893, m=101)\n",
    "\n",
    "        dist = []\n",
    "        for i in range(tests[count]):\n",
    "            dist.append(new_rd.gen_random())\n",
    "\n",
    "        sns.distplot(dist, bins=10, kde=False, ax=axs[x][y])\n",
    "        axs[x][y].set_title(\"{0} samples\".format(tests[count]))\n",
    "        axs[x][y].axhline(tests[count] // 10)\n",
    "        \n",
    "        count += 1"
   ]
  },
  {
   "cell_type": "markdown",
   "metadata": {},
   "source": [
    "Zoals in de grafieken te zien valt zijn alle plots vrijwel hetzelfde, de LFG heeft dan ook een terugkerend patroon. Verder valt te zien dat de LFG niet echt heel uniform verdeeld is.\n",
    "\n",
    "## chi-square test\n",
    "De chi-square test test of een reeks van pseudo willekeurige getallen tussen de 0 en 1 uniform verdeeld zijn."
   ]
  },
  {
   "cell_type": "code",
   "execution_count": 6,
   "metadata": {},
   "outputs": [
    {
     "data": {
      "text/plain": [
       "Power_divergenceResult(statistic=1811.8865812897075, pvalue=1.0)"
      ]
     },
     "execution_count": 6,
     "metadata": {},
     "output_type": "execute_result"
    }
   ],
   "source": [
    "from scipy.stats import chisquare\n",
    "\n",
    "new_rd = PseudoRandomGen(6421893, m=101)\n",
    "dist = np.array(new_rd.gen_random_sample(10000)) / 100\n",
    "\n",
    "chisquare(dist)"
   ]
  },
  {
   "cell_type": "code",
   "execution_count": 7,
   "metadata": {},
   "outputs": [
    {
     "data": {
      "text/plain": [
       "Power_divergenceResult(statistic=1644.1260645598977, pvalue=1.0)"
      ]
     },
     "execution_count": 7,
     "metadata": {},
     "output_type": "execute_result"
    }
   ],
   "source": [
    "test_dist = np.random.random_sample(10000)\n",
    "chisquare(test_dist)"
   ]
  },
  {
   "cell_type": "markdown",
   "metadata": {},
   "source": [
    "Zoals hierboven te zien is hebben beide tests een P-waarde van 1. "
   ]
  },
  {
   "cell_type": "markdown",
   "metadata": {},
   "source": [
    "## Pi benaderen d.m.v. kansverdeling\n",
    "\n",
    "In dit stuk zal ik proberen om mijn eerder gebouwde random number generator te gebruiken om pi te benaderen.\n",
    "\n",
    "Om pi te benaderen gaan we uit van een cirkel met een radius van 1. Om te testen of een punt zich in de cirkel bevindt maken we gebruik van de stelling van pythagoras. Hiervoor maken we gebruik van de formule:\n",
    "\n",
    "$\\sqrt{a^2 + b^2} <= 1$ \n",
    "\n",
    "Wanneer deze formule klopt zal het punt zich binnen de cirkel bevinden, anders bevindt het punt zich buiten de cirkel. Om het qua berekening makkelijker te maken maken we gebruik van een kwart van de cirkel, hierdoor kunnen we random getallen tussen de 0 en de 1 gebruiken.\n",
    "\n",
    "Aangezien we nu maar een kwart van de cirkel gebruiken om erachter te komen of de punten binnen of buiten de cirkel vallen moet de hoeveelheid punten die erbinnen vallen nog eens met 4 vermenigvuldigd worden. De formule die we uiteindelijk gebruiken om pi te berekenen is als volgt:\n",
    "\n",
    "$\\pi = \\frac{4 \\; \\cdot \\; inside}{n}$"
   ]
  },
  {
   "cell_type": "code",
   "execution_count": 8,
   "metadata": {},
   "outputs": [],
   "source": [
    "def approach_pi(n, seed, use_own=True):\n",
    "    \n",
    "    if use_own:\n",
    "        x_rand = PseudoRandomGen(seed, m=101)\n",
    "        x = np.array(x_rand.gen_random_sample(n)) / 100\n",
    "    \n",
    "        y_rand = PseudoRandomGen(seed + 42, m=101)\n",
    "        y = np.array(y_rand.gen_random_sample(n)) / 100\n",
    "    else:\n",
    "        x = np.random.random_sample(n)\n",
    "        y = np.random.random_sample(n)\n",
    "        \n",
    "    inside = 0\n",
    "    for i in range(n):\n",
    "        if math.sqrt((x[i] ** 2) + (y[i] ** 2)) <= 1:\n",
    "            inside += 1\n",
    "    \n",
    "    return 4 * inside/n\n",
    "    "
   ]
  },
  {
   "cell_type": "markdown",
   "metadata": {},
   "source": [
    "Wanneer we dan uiteindelijk de functie laten draaien komen de volgende resultaten eruit."
   ]
  },
  {
   "cell_type": "code",
   "execution_count": 9,
   "metadata": {
    "scrolled": true
   },
   "outputs": [
    {
     "name": "stdout",
     "output_type": "stream",
     "text": [
      "n        pi       error   \n",
      "1        4.0      -0.8584073464102069\n",
      "10       3.2      -0.05840734641020706\n",
      "100      3.2      -0.05840734641020706\n",
      "1000     3.176    -0.03440734641020704\n",
      "10000    3.1736   -0.03200734641020686\n",
      "100000   3.17336  -0.031767346410207065\n"
     ]
    }
   ],
   "source": [
    "seed = 6421893\n",
    "\n",
    "print('{:<8} {:<8} {:<8}'.format('n', 'pi', 'error'))\n",
    "for x in [1, 10, 100, 1000, 10000, 100000]:\n",
    "    pred_pi = approach_pi(x, seed)\n",
    "    error = math.pi - pred_pi\n",
    "    print('{:<8} {:<8} {:<8}'.format(x, pred_pi, error))"
   ]
  },
  {
   "cell_type": "markdown",
   "metadata": {},
   "source": [
    "Zoals in de resultaten te zien valt is de proef helaas niet al te accuraat."
   ]
  },
  {
   "cell_type": "code",
   "execution_count": 10,
   "metadata": {},
   "outputs": [
    {
     "name": "stdout",
     "output_type": "stream",
     "text": [
      "n        pi       error   \n",
      "1        4.0      -0.8584073464102069\n",
      "10       3.6      -0.458407346410207\n",
      "100      3.12     0.02159265358979301\n",
      "1000     3.04     0.10159265358979308\n",
      "10000    3.1268   0.014792653589793314\n",
      "100000   3.14244  -0.0008473464102070061\n"
     ]
    }
   ],
   "source": [
    "seed = 6421893\n",
    "\n",
    "print('{:<8} {:<8} {:<8}'.format('n', 'pi', 'error'))\n",
    "for x in [1, 10, 100, 1000, 10000, 100000]:\n",
    "    pred_pi = approach_pi(x, seed, use_own=False)\n",
    "    error = math.pi - pred_pi\n",
    "    print('{:<8} {:<8} {:<8}'.format(x, pred_pi, error))"
   ]
  }
 ],
 "metadata": {
  "kernelspec": {
   "display_name": "Python 3",
   "language": "python",
   "name": "python3"
  },
  "language_info": {
   "codemirror_mode": {
    "name": "ipython",
    "version": 3
   },
   "file_extension": ".py",
   "mimetype": "text/x-python",
   "name": "python",
   "nbconvert_exporter": "python",
   "pygments_lexer": "ipython3",
   "version": "3.6.7"
  }
 },
 "nbformat": 4,
 "nbformat_minor": 2
}
