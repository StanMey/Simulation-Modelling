{
 "cells": [
  {
   "cell_type": "markdown",
   "metadata": {},
   "source": [
    "# S(E)IR Model"
   ]
  },
  {
   "cell_type": "code",
   "execution_count": 1,
   "metadata": {},
   "outputs": [],
   "source": [
    "import matplotlib.pyplot as plt\n",
    "import numpy as np\n",
    "plt.style.use(\"ggplot\")"
   ]
  },
  {
   "cell_type": "code",
   "execution_count": 2,
   "metadata": {},
   "outputs": [],
   "source": [
    "# variables are based on the student number\n",
    "POPULATION = 96e6\n",
    "AVG_CONTACTS = 44\n",
    "INFECTION_CHANCE = 0.09\n",
    "\n",
    "LATENCY = 2\n",
    "INFECTIOUS_TIMES = 5"
   ]
  },
  {
   "cell_type": "markdown",
   "metadata": {},
   "source": [
    "$S(t) = $ Number of susceptible persons (currently healthy, never had been ill, not immune)  \n",
    "$I(t) = $ Number of infected persons (currently have the disease)  \n",
    "$R(t) = $ Number of recovered persons (immune, will not get sick or infect anybody)  \n",
    "  \n",
    "$\\dot{S}(t) = -a \\cdot S(t) \\cdot I(t)$  \n",
    "$\\dot{I}(t) = a \\cdot S(t) \\cdot I(t) - b \\cdot I(t)$  \n",
    "$\\dot{R}(t) = b \\cdot I(t)$  \n",
    "  \n",
    "These formulas have the following coefficients:  \n",
    "$a =$ transmission coefficient; depends on conditions  \n",
    "$b =$ recovery coefficient; depends on disease"
   ]
  },
  {
   "cell_type": "code",
   "execution_count": 3,
   "metadata": {},
   "outputs": [],
   "source": [
    "def seir_mod(n, h, i0, vacc_amount):\n",
    "    \"\"\"\"\"\"\n",
    "    \n",
    "    s = np.zeros(n + 1)  # Susceptible\n",
    "    e = np.zeros(n + 1)  # Exposed\n",
    "    i = np.zeros(n + 1)  # Infectious\n",
    "    r = np.zeros(n + 1)  # Recovered\n",
    "    t = np.zeros(n + 1)  # Time covered\n",
    "    \n",
    "    infection_rate = AVG_CONTACTS * INFECTION_CHANCE / POPULATION\n",
    "    \n",
    "    s[0] = POPULATION - i0 - vacc_amount\n",
    "    e[0] = 0\n",
    "    i[0] = i0\n",
    "    r[0] = vacc_amount\n",
    "    t[0] = 0\n",
    "    \n",
    "    for step in range(n):\n",
    "        s2e = h * infection_rate * s[step] * i[step]\n",
    "        e2i = h / LATENCY * e[step]\n",
    "        i2r = h / INFECTIOUS_TIMES\n",
    "        \n",
    "        s[step + 1] = s[step] - s2e\n",
    "        e[step + 1] = e[step] + s2e - e2i\n",
    "        i[step + 1] = i[step] + e2i - i2r\n",
    "        r[step + 1] = r[step] + i2r\n",
    "        t[step + 1] = t[step] + h\n",
    "    \n",
    "    return s, e, i, r, t"
   ]
  },
  {
   "cell_type": "code",
   "execution_count": 4,
   "metadata": {},
   "outputs": [],
   "source": [
    "total_time = 100\n",
    "delta_h = 1.0"
   ]
  },
  {
   "cell_type": "code",
   "execution_count": 5,
   "metadata": {},
   "outputs": [],
   "source": [
    "def seir_plot(seir_tuple):\n",
    "    x = seir_tuple[4]\n",
    "    \n",
    "    plt.plot(x, seir_tuple[0], label=\"S\")\n",
    "    plt.plot(x, seir_tuple[1], label=\"E\")\n",
    "    plt.plot(x, seir_tuple[2], label=\"I\")\n",
    "    plt.plot(x, seir_tuple[3], label=\"R\")\n",
    "    \n",
    "    plt.xlabel(\"Time in days\")\n",
    "    plt.ylabel(\"Population size\")\n",
    "    \n",
    "    plt.legend()\n",
    "    plt.show()"
   ]
  },
  {
   "cell_type": "code",
   "execution_count": 6,
   "metadata": {},
   "outputs": [
    {
     "data": {
      "image/png": "[encoded data removed]",
      "text/plain": [
       "<Figure size 432x288 with 1 Axes>"
      ]
     },
     "metadata": {
      "needs_background": "light"
     },
     "output_type": "display_data"
    }
   ],
   "source": [
    "# without vaccination\n",
    "seir_result = seir_mod(100, 0.5, 10e3, 0)\n",
    "# print(seir_result)\n",
    "seir_plot(seir_result)"
   ]
  },
  {
   "cell_type": "markdown",
   "metadata": {},
   "source": [
    "## Prevending an epidemic\n",
    "An disease outbreak is characterized as an epidemic when on one point in the outbreak more than 60 persons per 100.000 persons are infected by the disease/virus."
   ]
  },
  {
   "cell_type": "code",
   "execution_count": 7,
   "metadata": {},
   "outputs": [
    {
     "name": "stdout",
     "output_type": "stream",
     "text": [
      "57599.99999999999\n"
     ]
    }
   ],
   "source": [
    "epidemic_limit = POPULATION * 0.0006\n",
    "print(epidemic_limit)"
   ]
  },
  {
   "cell_type": "code",
   "execution_count": 8,
   "metadata": {},
   "outputs": [
    {
     "name": "stderr",
     "output_type": "stream",
     "text": [
      "c:\\users\\stan_\\appdata\\local\\programs\\python\\python36\\lib\\site-packages\\ipykernel_launcher.py:19: RuntimeWarning: overflow encountered in double_scalars\n",
      "c:\\users\\stan_\\appdata\\local\\programs\\python\\python36\\lib\\site-packages\\ipykernel_launcher.py:23: RuntimeWarning: invalid value encountered in double_scalars\n",
      "c:\\users\\stan_\\appdata\\local\\programs\\python\\python36\\lib\\site-packages\\ipykernel_launcher.py:24: RuntimeWarning: invalid value encountered in double_scalars\n"
     ]
    },
    {
     "name": "stdout",
     "output_type": "stream",
     "text": [
      "Min vaccines needed: 95520000\n",
      "for prefending an epidemic\n"
     ]
    }
   ],
   "source": [
    "for i in range(0, int(96e6), int(1e4)):\n",
    "    seir_result = seir_mod(100, 1.0, 10e3, i)\n",
    "    max_infected = seir_result[2].max()\n",
    "    \n",
    "    if max_infected < epidemic_limit:\n",
    "        print(\"Min vaccines needed: {0}\\nfor prefending an epidemic\".format(i))\n",
    "        break"
   ]
  },
  {
   "cell_type": "markdown",
   "metadata": {},
   "source": [
    "The minimum amount of vaccinations needed to prevent an epidemic are: 95.520.000 vaccinations."
   ]
  }
 ],
 "metadata": {
  "kernelspec": {
   "display_name": "Python 3",
   "language": "python",
   "name": "python3"
  },
  "language_info": {
   "codemirror_mode": {
    "name": "ipython",
    "version": 3
   },
   "file_extension": ".py",
   "mimetype": "text/x-python",
   "name": "python",
   "nbconvert_exporter": "python",
   "pygments_lexer": "ipython3",
   "version": "3.6.7"
  }
 },
 "nbformat": 4,
 "nbformat_minor": 2
}
