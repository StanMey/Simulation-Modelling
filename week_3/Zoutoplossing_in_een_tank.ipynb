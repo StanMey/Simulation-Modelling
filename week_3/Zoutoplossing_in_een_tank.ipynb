{
 "cells": [
  {
   "cell_type": "markdown",
   "metadata": {},
   "source": [
    "# Zoutoplossing in een tank\n",
    "\n",
    "Een tank bevat 1000 liter puur water. Vanaf t=0 vloeit er met een constante snelheid van 6 L/min een zoutoplossing de tank in. Het water in de tank wordt goed geroerd. Aan de andere kant van de tank stroomt er ook weer water weg met een snelheid van 6 L/min. De concentratie van het zout in de instromende oplossing is 0.1 kg/L.\n",
    "\n",
    "Voor deze opdracht werd er gevraagd om het verloop van de zoutconcentratie in de tank te plotten. Daarnaast is er gevraagd wat het verloop is wanneer het water er met 5 L/min uitstroomt i.p.v. 6 L/min."
   ]
  },
  {
   "cell_type": "code",
   "execution_count": 1,
   "metadata": {},
   "outputs": [],
   "source": [
    "import matplotlib.pyplot as plt\n",
    "import numpy as np"
   ]
  },
  {
   "cell_type": "markdown",
   "metadata": {},
   "source": [
    "## Zonder Euler Method\n",
    "\n",
    "Mijn eerste idee was om een Tank object te bouwen die door middel van een method genaamd 'update' zijn huidige zout concentratie zou updaten en direct alle informatie van zichzelf aanpast.  \n",
    "Het ontwerp werkte naar behoren, echter was dit niet echt geprogrammeerd op een manier waarop de euler methode nadrukkelijk naar voren kwam."
   ]
  },
  {
   "cell_type": "code",
   "execution_count": 2,
   "metadata": {},
   "outputs": [],
   "source": [
    "class Tank(object):\n",
    "    def __init__(self, volume, solution, in_rate, out_rate, conc_in):\n",
    "        self.volume = volume\n",
    "        self.solution_amount = solution\n",
    "        self.in_rate = in_rate\n",
    "        self.out_rate = out_rate\n",
    "        self.conc_in = conc_in\n",
    "        self.kg_salt_in = self.in_rate * self.conc_in\n",
    "    \n",
    "    def update(self):\n",
    "        kg_in_tank = self.volume * self.solution_amount\n",
    "        kg_out_flow = self.solution_amount * self.out_rate\n",
    "        \n",
    "        kg_in_tank += self.kg_salt_in - kg_out_flow\n",
    "        self.volume += self.in_rate - self.out_rate\n",
    "        self.solution_amount = kg_in_tank / self.volume"
   ]
  },
  {
   "cell_type": "code",
   "execution_count": 3,
   "metadata": {},
   "outputs": [
    {
     "data": {
      "image/png": "[encoded data removed]",
      "text/plain": [
       "<Figure size 432x288 with 1 Axes>"
      ]
     },
     "metadata": {
      "needs_background": "light"
     },
     "output_type": "display_data"
    }
   ],
   "source": [
    "tank1 = Tank(1000, 0.0, 6, 6, 0.1)\n",
    "tank2 = Tank(1000, 0.0, 6, 5, 0.1)\n",
    "\n",
    "time_list = []\n",
    "solution_rate1 = []\n",
    "solution_rate2 = []\n",
    "\n",
    "for i in range(0, 1000):\n",
    "    time_list.append(i)\n",
    "    solution_rate1.append(tank1.solution_amount)\n",
    "    solution_rate2.append(tank2.solution_amount)\n",
    "    \n",
    "    tank1.update()\n",
    "    tank2.update()\n",
    "\n",
    "\n",
    "plt.plot(time_list, solution_rate1, label=\"outflow: 6L/min\")\n",
    "plt.plot(time_list, solution_rate2, label=\"outflow: 5L/min\")\n",
    "\n",
    "plt.legend()\n",
    "plt.show()"
   ]
  },
  {
   "cell_type": "markdown",
   "metadata": {},
   "source": [
    "## Met Euler Method\n",
    "\n",
    "Om de euler methode nadrukkelijker naar voren te laten komen tijdens het plotten van het verloop in de zoutconcentratie is het proces nu opgedeeld in stappen.  \n",
    "- Allereerst wordt de tijdstap geupdate.\n",
    "- De volume van de tank wordt opnieuw berekend.\n",
    "- De hoeveelheid zout in de tank (in kg) wordt berekend.\n",
    "- Op basis van het volume en de hoeveelheid zout in de tank wordt de nieuwe concentratie berekend."
   ]
  },
  {
   "cell_type": "code",
   "execution_count": 4,
   "metadata": {},
   "outputs": [],
   "source": [
    "def forward_euler_tank(volume, liq_in, liq_out, conc_in):\n",
    "    \"\"\"Calculates the concentration of the tank over 2 hours\"\"\"\n",
    "    \n",
    "    num_steps = 1000\n",
    "    h = 1\n",
    "    \n",
    "    t = np.zeros(num_steps + 1)  # The timesteps\n",
    "    v = np.zeros(num_steps + 1)  # The volume of the tank\n",
    "    k = np.zeros(num_steps + 1)  # The amount (kg) of salt in the tank\n",
    "    c = np.zeros(num_steps + 1)  # The concentration in the tank\n",
    "    \n",
    "    # Set the initial values\n",
    "    v[0] = volume\n",
    "    k[0] = 0.0\n",
    "    c[0] = 0.0\n",
    "    \n",
    "    # use the euler integration to calculate the next concentration\n",
    "    for step in range(num_steps):\n",
    "        t[step + 1] = t[step] + h\n",
    "        v[step + 1] = v[step] + (liq_in - liq_out)\n",
    "        k[step + 1] = k[step] + ((liq_in * conc_in) - (liq_out * c[step]))\n",
    "        c[step + 1] = k[step] / v[step]\n",
    "    \n",
    "    return c, t"
   ]
  },
  {
   "cell_type": "markdown",
   "metadata": {},
   "source": [
    "Om uiteindelijk een goed beeld te krijgen van het verloop van de grafiek wordt deze geplot."
   ]
  },
  {
   "cell_type": "code",
   "execution_count": 5,
   "metadata": {},
   "outputs": [
    {
     "data": {
      "image/png": "[encoded data removed]",
      "text/plain": [
       "<Figure size 432x288 with 1 Axes>"
      ]
     },
     "metadata": {
      "needs_background": "light"
     },
     "output_type": "display_data"
    }
   ],
   "source": [
    "# outflow with 6L/min\n",
    "tank_conc, time_list = forward_euler_tank(1000, 6, 6, 0.1)\n",
    "plt.plot(time_list, tank_conc, label=\"outflow: 6L/min\")\n",
    "\n",
    "# outflow with 5L/min\n",
    "tank_conc, time_list = forward_euler_tank(1000, 6, 5, 0.1)\n",
    "plt.plot(time_list, tank_conc, label=\"outflow: 5L/min\")\n",
    "\n",
    "plt.legend()\n",
    "plt.show()"
   ]
  }
 ],
 "metadata": {
  "kernelspec": {
   "display_name": "Python 3",
   "language": "python",
   "name": "python3"
  },
  "language_info": {
   "codemirror_mode": {
    "name": "ipython",
    "version": 3
   },
   "file_extension": ".py",
   "mimetype": "text/x-python",
   "name": "python",
   "nbconvert_exporter": "python",
   "pygments_lexer": "ipython3",
   "version": "3.6.7"
  }
 },
 "nbformat": 4,
 "nbformat_minor": 2
}
