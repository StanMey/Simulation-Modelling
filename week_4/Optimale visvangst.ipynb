{
 "cells": [
  {
   "cell_type": "markdown",
   "metadata": {},
   "source": [
    "# Optimalisatie van oplopende visvangst\n",
    "In deze opdracht moeten we de op zoek gaan naar de optimale starttijd/eindtijd combinaties met de volgende restricties:  \n",
    "- vangst van maximaal 0.7 MSY (Maximum Sustainable Yield)  \n",
    "- vangst mag pas over 2 jaar starten  \n",
    "  \n",
    "Allereerst importeren we de benodigde libraries:"
   ]
  },
  {
   "cell_type": "code",
   "execution_count": 1,
   "metadata": {},
   "outputs": [],
   "source": [
    "import numpy as np\n",
    "import matplotlib.pyplot as plt\n",
    "%matplotlib inline"
   ]
  },
  {
   "cell_type": "markdown",
   "metadata": {},
   "source": []
  },
  {
   "cell_type": "code",
   "execution_count": 2,
   "metadata": {},
   "outputs": [],
   "source": [
    "def calculate_step(ramp_start, ramp_end):\n",
    "    maximum_growth_rate = 0.5 # 1 / year\n",
    "    carrying_capacity = 2e6 # tons\n",
    "    maximum_harvest_rate = 0.7 * 2.5e5 # tons / year (MSY)\n",
    "\n",
    "    end_time = 10. # years\n",
    "    h = 0.1 # years\n",
    "    num_steps = int(end_time / h)\n",
    "    times = h * np.array(range(num_steps + 1))\n",
    "\n",
    "    fish = np.zeros(num_steps + 1) # tons\n",
    "    fish[0] = 2e5\n",
    "\n",
    "    total_harvest = 0.\n",
    "    is_extinct = False\n",
    "    \n",
    "    for step in range(num_steps):\n",
    "        time = h * step # years\n",
    "        harvest_factor = 0.0\n",
    "        if time > ramp_end:\n",
    "            harvest_factor = 1.0\n",
    "        elif time > ramp_start:\n",
    "            harvest_factor = (time - ramp_start) / (ramp_end - ramp_start)    \n",
    "        harvest_rate = harvest_factor * maximum_harvest_rate\n",
    "        if is_extinct:\n",
    "            current_harvest = 0.\n",
    "            fish_next_step = 0.\n",
    "        else:\n",
    "            current_harvest = h * harvest_rate\n",
    "            fish_next_step = fish[step] + h * (maximum_growth_rate * (1. - fish[step] / carrying_capacity) * fish[step] - harvest_rate)\n",
    "            if fish_next_step <= 0.:\n",
    "                is_extinct = True\n",
    "                current_harvest = fish[step]\n",
    "                fish_next_step = 0.\n",
    "        fish[step + 1] = fish_next_step\n",
    "        total_harvest += current_harvest\n",
    "\n",
    "    return total_harvest"
   ]
  },
  {
   "cell_type": "markdown",
   "metadata": {},
   "source": []
  },
  {
   "cell_type": "code",
   "execution_count": 3,
   "metadata": {},
   "outputs": [],
   "source": [
    "def total_harvest(st_time):\n",
    "    \n",
    "    results = []\n",
    "    \n",
    "    start_time = st_time\n",
    "    step_size = 0.5\n",
    "    \n",
    "    for ramp_start in np.arange(start_time, 10.01, step_size): # 10.01 to prevent issues with roundoff errors\n",
    "        for ramp_end in np.arange(ramp_start, 10.01, step_size): # 10.01 to prevent issues with roundoff errors\n",
    "            \n",
    "            total_harvest = calculate_step(ramp_start, ramp_end)\n",
    "            results.append([ramp_start, ramp_end, total_harvest])\n",
    "    \n",
    "    return results"
   ]
  },
  {
   "cell_type": "markdown",
   "metadata": {},
   "source": []
  },
  {
   "cell_type": "code",
   "execution_count": 4,
   "metadata": {},
   "outputs": [
    {
     "data": {
      "image/png": "[encoded data removed]",
      "text/plain": [
       "<Figure size 432x288 with 1 Axes>"
      ]
     },
     "metadata": {
      "needs_background": "light"
     },
     "output_type": "display_data"
    }
   ],
   "source": [
    "START_TIME = 2. # years\n",
    "\n",
    "results = total_harvest(START_TIME)\n",
    "\n",
    "\n",
    "def plot_me():\n",
    "    # This adjusts the size of the dots to compare them easily. \n",
    "    plt.scatter([r[0] for r in results], [r[1] for r in results], [5e-11 * r[2] ** 2 for r in results], edgecolor = 'none')\n",
    "    axes = plt.gca()\n",
    "    \n",
    "    # setting the limits on the axis\n",
    "    axes.set_xlim(0, 10)\n",
    "    axes.set_ylim(0, 11)\n",
    "    \n",
    "    # setting the labels on the axis\n",
    "    axes.set_xlabel('Ramp start in years')\n",
    "    axes.set_ylabel('Ramp end in years')\n",
    "    \n",
    "    # showing the plot\n",
    "    plt.show()\n",
    "\n",
    "plot_me()"
   ]
  }
 ],
 "metadata": {
  "kernelspec": {
   "display_name": "Python 3",
   "language": "python",
   "name": "python3"
  },
  "language_info": {
   "codemirror_mode": {
    "name": "ipython",
    "version": 3
   },
   "file_extension": ".py",
   "mimetype": "text/x-python",
   "name": "python",
   "nbconvert_exporter": "python",
   "pygments_lexer": "ipython3",
   "version": "3.6.7"
  }
 },
 "nbformat": 4,
 "nbformat_minor": 2
}
