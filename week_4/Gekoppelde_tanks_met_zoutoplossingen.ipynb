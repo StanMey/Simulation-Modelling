{
 "cells": [
  {
   "cell_type": "markdown",
   "metadata": {},
   "source": [
    "# Gekoppelde tanks met zoutoplossingen"
   ]
  },
  {
   "cell_type": "markdown",
   "metadata": {},
   "source": [
    "Twee grote tanks, elk gevuld met 100 Liter vloeistof, zijn met pijpleidingen aan elkaar verbonden. De vloeistof stroomt van tank A in tank B met een snelheid van 3 L/min en van B in A met 1 L/min.  \n",
    "Een zoutoplossing met een concentratie van 0.2 kg/L stroomt met een snelheid van 6 L/min tank A in. De oplossing stroomt met een snelheid van 4 L/min tank A uit en verlaat met een snelheid van 2 L/min tank B.\n",
    "\n",
    "Voor deze opdracht werd er gevraagd om het verloop van de zoutconcentratie in de tanks te plotten."
   ]
  },
  {
   "cell_type": "code",
   "execution_count": 1,
   "metadata": {},
   "outputs": [],
   "source": [
    "import numpy as np\n",
    "import matplotlib.pyplot as plt\n",
    "plt.style.use(\"ggplot\")"
   ]
  },
  {
   "cell_type": "markdown",
   "metadata": {},
   "source": [
    "Om de euler methode nadrukkelijk naar voren te laten komen tijdens het plotten van het verloop in de zoutconcentratie is het proces opgedeeld in stappen:\n",
    "\n",
    "Om de euler methode nadrukkelijker naar voren te laten komen tijdens het plotten van het verloop in de zoutconcentratie is het proces nu opgedeeld in stappen.  \n",
    "- Allereerst wordt de tijdstap geupdate.\n",
    "- De volume van de tank wordt opnieuw berekend.\n",
    "- De hoeveelheid zout in de tank (in kg) wordt berekend.\n",
    "- Op basis van het volume en de hoeveelheid zout in de tank wordt de nieuwe concentratie berekend.\n",
    "\n",
    "Aangezien er meerdere stappen stappen tegelijkertijd uitgevoerd moeten worden heb ik ervoor gekozen om meerdere variabelen aan te maken dan eigenlijk nodig zijn. Dit is gedaan om de leesbaarheid van de code te behouden."
   ]
  },
  {
   "cell_type": "code",
   "execution_count": 2,
   "metadata": {},
   "outputs": [],
   "source": [
    "def forward_euler_tanks(n):\n",
    "    \"\"\"\"\"\"\n",
    "    # salt concentration in kg/L\n",
    "    x = np.zeros(n + 1)\n",
    "    y = np.zeros(n + 1)\n",
    "    \n",
    "    # kg salt in the tank\n",
    "    m_x = np.zeros(n + 1)\n",
    "    m_y = np.zeros(n + 1)\n",
    "    \n",
    "    # volume in the tank\n",
    "    v_x = np.zeros(n + 1)\n",
    "    v_y = np.zeros(n + 1)\n",
    "    \n",
    "    # volume at point 0\n",
    "    v_x[0] = 100\n",
    "    v_y[0] = 100\n",
    "    \n",
    "    # kg salt at point 0\n",
    "    m_x[0] = 0\n",
    "    m_y[0] = 20\n",
    "\n",
    "    # concentration at point 0\n",
    "    x[0] = m_x[0] / v_x[0]\n",
    "    y[0] = m_y[0] / v_y[0]\n",
    "    \n",
    "    # outside to tank x\n",
    "    v_o2x = 6\n",
    "    # tank x to outside\n",
    "    v_x2o = 4\n",
    "    # tank x to tank y\n",
    "    v_x2y = 3\n",
    "    # tank y to tank x\n",
    "    v_y2x = 1\n",
    "    # tank y to outside\n",
    "    v_y2o = 2\n",
    "    \n",
    "    # conc outside to tank x\n",
    "    c_o2x = 0.2\n",
    "    \n",
    "    for step in range(n):\n",
    "        #update the volumes\n",
    "        v_x[step + 1] = v_x[step] + v_o2x - v_x2y - v_x2o + v_y2x\n",
    "        v_y[step + 1] = v_y[step] + v_x2y - v_y2x - v_y2o\n",
    "        \n",
    "        # calculate the amount of moving salt\n",
    "        x_salt_in = (v_o2x * c_o2x) + (v_y2x * y[step])\n",
    "        x_salt_out = (v_x2y * x[step]) + (v_x2o * x[step])\n",
    "        \n",
    "        # update the amount of salt in tank x\n",
    "        m_x[step + 1] = m_x[step] + x_salt_in - x_salt_out\n",
    "        \n",
    "        # calculate the amount of moving salt\n",
    "        y_salt_in = v_x2y * x[step]\n",
    "        y_salt_out = (v_y2x * y[step]) + (v_y2o * y[step])\n",
    "        \n",
    "        # update the amount of salt in tank y\n",
    "        m_y[step + 1] = m_y[step] + y_salt_in - y_salt_out\n",
    "        \n",
    "        # update the concentration\n",
    "        x[step + 1] = m_x[step] / v_x[step]\n",
    "        y[step + 1] = m_y[step] / v_y[step]\n",
    "    \n",
    "    return x, y"
   ]
  },
  {
   "cell_type": "markdown",
   "metadata": {},
   "source": [
    "Om uiteindelijk een goed beeld te krijgen van het verloop van de grafiek wordt deze geplot."
   ]
  },
  {
   "cell_type": "code",
   "execution_count": 3,
   "metadata": {},
   "outputs": [
    {
     "data": {
      "image/png": "[encoded data removed]",
      "text/plain": [
       "<Figure size 432x288 with 1 Axes>"
      ]
     },
     "metadata": {
      "needs_background": "light"
     },
     "output_type": "display_data"
    }
   ],
   "source": [
    "# calculate the outflow\n",
    "num_steps = 200\n",
    "conc_tank1, conc_tank2 = forward_euler_tanks(num_steps)\n",
    "x = [x for x in range(0, num_steps + 1, 1)]\n",
    "\n",
    "# plot the first tank\n",
    "plt.plot(x, conc_tank1, label=\"tank1\")\n",
    "\n",
    "# plot the second tank\n",
    "plt.plot(x, conc_tank2, label=\"tank2\")\n",
    "\n",
    "# setting the plot\n",
    "plt.title(\"Salt concentrations over time\")\n",
    "plt.xlabel(\"Time (days)\")\n",
    "plt.ylabel(\"salt concentration (kg/L)\")\n",
    "\n",
    "# show the plot\n",
    "plt.legend()\n",
    "plt.show()"
   ]
  }
 ],
 "metadata": {
  "kernelspec": {
   "display_name": "Python 3",
   "language": "python",
   "name": "python3"
  },
  "language_info": {
   "codemirror_mode": {
    "name": "ipython",
    "version": 3
   },
   "file_extension": ".py",
   "mimetype": "text/x-python",
   "name": "python",
   "nbconvert_exporter": "python",
   "pygments_lexer": "ipython3",
   "version": "3.6.7"
  }
 },
 "nbformat": 4,
 "nbformat_minor": 2
}
